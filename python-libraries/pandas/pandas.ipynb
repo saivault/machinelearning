{
 "cells": [
  {
   "cell_type": "markdown",
   "metadata": {},
   "source": [
    "<a id=\"top\"></a>\n",
    "# Pandas\n",
    "A python package which makes importing and analyzing data much easier. <br>\n",
    "The core component in pandas is a dataframe which is a 2-dimensional special object to store data in tabular form. <br>\n",
    "Dataframe is the primary Pandas datastructure. <br>\n",
    "Can be thought of as a dict-like container for Series objects.\n",
    "\n",
    "Contents :\n",
    "* <a href=\"#dataframe\">Creation of a Dataframe - pd.DataFrame()</a>\n",
    "* <a href=\"#head\">df.head()</a>\n",
    "* <a href=\"#csv\">Dealing with csv files</a>\n",
    "* <a href=\"#iloc\">df.iloc[]</a>\n",
    "* <a href=\"#sort\">Sort a dataframe based on columns</a>\n",
    "* <a href=\"#numpy\">Conversion of dataframe to numpy array</a>"
   ]
  },
  {
   "cell_type": "code",
   "execution_count": 1,
   "metadata": {},
   "outputs": [],
   "source": [
    "import numpy as np\n",
    "import pandas as pd\n",
    "import sys"
   ]
  },
  {
   "cell_type": "code",
   "execution_count": 2,
   "metadata": {},
   "outputs": [
    {
     "name": "stdout",
     "output_type": "stream",
     "text": [
      "{'MarksA': array([ 6, 87, 47, 93, 57]), 'MarksB': array([96, 71, 78, 67, 94]), 'MarksC': array([86, 90, 93, 76, 78])}\n"
     ]
    }
   ],
   "source": [
    "user_data = {\n",
    "    \"MarksA\": np.random.randint(1,100,5),\n",
    "    \"MarksB\": np.random.randint(50,100,5),\n",
    "    \"MarksC\": np.random.randint(75,100,5)\n",
    "}\n",
    "print(user_data)"
   ]
  },
  {
   "cell_type": "markdown",
   "metadata": {},
   "source": [
    "<a id=\"dataframe\"></a>\n",
    "### pandas.DataFrame(data=None, index=None, columns=None,  dtype=None)\n",
    "<b>Parameters</b> <br>\n",
    "data: ndarray (structured or homogeneous), Iterable, dict, or DataFrame. <br>\n",
    "       Dict can contain Series, arrays, constants, dataclass or list-like objects.\n",
    "\n",
    "index: Index or array-like\n",
    "Index to use for resulting frame. Will default to RangeIndex if no indexing information part of input data and no index provided.\n",
    "\n",
    "columns: Index or array-like\n",
    "Column labels to use for resulting frame when data does not have them, defaulting to RangeIndex(0, 1, 2, …, n). \n",
    "\n",
    "dtype: dtype, default None.\n",
    "Data type to force. Only a single dtype is allowed."
   ]
  },
  {
   "cell_type": "code",
   "execution_count": 3,
   "metadata": {},
   "outputs": [
    {
     "name": "stdout",
     "output_type": "stream",
     "text": [
      "        0\n",
      "0   Geeks\n",
      "1     For\n",
      "2   Geeks\n",
      "3      is\n",
      "4  portal\n",
      "5     for\n",
      "6   Geeks\n"
     ]
    }
   ],
   "source": [
    "# creating dataframe from list\n",
    "lst = ['Geeks', 'For', 'Geeks', 'is', 'portal', 'for', 'Geeks']\n",
    "\n",
    "df = pd.DataFrame(lst)\n",
    "print(df)"
   ]
  },
  {
   "cell_type": "markdown",
   "metadata": {},
   "source": [
    "Since index parameter isn't passed, indices are set to default 0,1,2,3,4,5,6. <br>\n",
    "Since columns parameter isn't passed, they are also indexed to 0"
   ]
  },
  {
   "cell_type": "code",
   "execution_count": 4,
   "metadata": {},
   "outputs": [
    {
     "name": "stdout",
     "output_type": "stream",
     "text": [
      "The error is arrays must all be same length\n",
      "<class 'ValueError'>\n",
      "arrays must all be same length\n"
     ]
    }
   ],
   "source": [
    "# Creating DataFrame from dict of ndarray/lists: \n",
    "\n",
    "try:\n",
    "    data = {\n",
    "        'Name':['Jai', 'Princi', 'Gaurav', 'Anuj', 'Ekta'],\n",
    "        'Age':[27, 24, 22, 32],\n",
    "        'Address':['Delhi', 'Kanpur', 'Allahabad', 'Kannauj','Panaji'],\n",
    "        'Qualification':['Msc', 'MA', 'MCA', 'Phd','BTech']\n",
    "    }\n",
    "    \n",
    "    # age has four values only\n",
    "    df = pd.DataFrame(data)\n",
    "    \n",
    "except Exception as e:\n",
    "    print(f\"The error is {e}\")\n",
    "    print(sys.exc_info()[0])\n",
    "    print(sys.exc_info()[1])"
   ]
  },
  {
   "cell_type": "markdown",
   "metadata": {},
   "source": [
    "<b>NOTE</b>:  To create DataFrame from dict of ndarray/list, all the ndarrays/lists must be of the same length."
   ]
  },
  {
   "cell_type": "code",
   "execution_count": 5,
   "metadata": {},
   "outputs": [
    {
     "name": "stdout",
     "output_type": "stream",
     "text": [
      "     Name  Age    Address Qualification\n",
      "0     Jai   27      Delhi           Msc\n",
      "1  Princi   29     Kanpur            MA\n",
      "2  Gaurav   22  Allahabad           MCA\n",
      "3    Anuj   32    Kannauj           Phd\n",
      "4    Ekta   29     Panaji         BTech\n"
     ]
    }
   ],
   "source": [
    "# Creating DataFrame from dict of ndarray/lists: \n",
    "data = {'Name':['Jai', 'Princi', 'Gaurav', 'Anuj', 'Ekta'],\n",
    "        'Age':[27, 29, 22, 32, 29],\n",
    "        'Address':['Delhi', 'Kanpur', 'Allahabad', 'Kannauj','Panaji'],\n",
    "        'Qualification':['Msc', 'MA', 'MCA', 'Phd','BTech']}\n",
    " \n",
    "df = pd.DataFrame(data)\n",
    "print(df)"
   ]
  },
  {
   "cell_type": "markdown",
   "metadata": {},
   "source": [
    "<a id=\"head\"></a>\n",
    "### DataFrame.head (n=5)\n",
    "Return the first n rows. <br>\n",
    "This function returns the first n rows for the object based on position. It is useful for quickly testing if your object has the right type of data in it.\n",
    "For negative values of n, this function returns all rows except the last n rows, equivalent to df[:-n]. <br> <br>\n",
    "<b> Parameters</b>\n",
    "n: integer value, number of rows to be returned - default 5 <br>\n",
    "<b> Returns </b>\n",
    "same type as caller. The first n rows of the caller object."
   ]
  },
  {
   "cell_type": "code",
   "execution_count": 6,
   "metadata": {},
   "outputs": [
    {
     "name": "stdout",
     "output_type": "stream",
     "text": [
      "     Name  Age    Address Qualification\n",
      "0     Jai   27      Delhi           Msc\n",
      "1  Princi   29     Kanpur            MA\n",
      "2  Gaurav   22  Allahabad           MCA\n",
      "3    Anuj   32    Kannauj           Phd\n",
      "4    Ekta   29     Panaji         BTech\n",
      "<class 'pandas.core.frame.DataFrame'>\n"
     ]
    }
   ],
   "source": [
    "print(df.head())\n",
    "print(type(df.head()))"
   ]
  },
  {
   "cell_type": "code",
   "execution_count": 7,
   "metadata": {},
   "outputs": [
    {
     "name": "stdout",
     "output_type": "stream",
     "text": [
      "     Name  Age    Address Qualification\n",
      "0     Jai   27      Delhi           Msc\n",
      "1  Princi   29     Kanpur            MA\n",
      "2  Gaurav   22  Allahabad           MCA\n"
     ]
    }
   ],
   "source": [
    "print(df.head(n=3))"
   ]
  },
  {
   "cell_type": "code",
   "execution_count": 8,
   "metadata": {},
   "outputs": [
    {
     "name": "stdout",
     "output_type": "stream",
     "text": [
      "     Name  Age    Address Qualification\n",
      "0     Jai   27      Delhi           Msc\n",
      "1  Princi   29     Kanpur            MA\n",
      "2  Gaurav   22  Allahabad           MCA\n",
      "3    Anuj   32    Kannauj           Phd\n",
      "4    Ekta   29     Panaji         BTech\n"
     ]
    }
   ],
   "source": [
    "print(df.head(n=10))"
   ]
  },
  {
   "cell_type": "code",
   "execution_count": 9,
   "metadata": {},
   "outputs": [
    {
     "name": "stdout",
     "output_type": "stream",
     "text": [
      "     Name  Age Address Qualification\n",
      "0     Jai   27   Delhi           Msc\n",
      "1  Princi   29  Kanpur            MA\n"
     ]
    }
   ],
   "source": [
    "print(df.head(-3))"
   ]
  },
  {
   "cell_type": "code",
   "execution_count": 10,
   "metadata": {},
   "outputs": [
    {
     "name": "stdout",
     "output_type": "stream",
     "text": [
      "Index(['Name', 'Age', 'Address', 'Qualification'], dtype='object')\n",
      "<class 'pandas.core.indexes.base.Index'>\n"
     ]
    }
   ],
   "source": [
    "print(df.columns)\n",
    "print(type(df.columns))"
   ]
  },
  {
   "cell_type": "code",
   "execution_count": 11,
   "metadata": {},
   "outputs": [
    {
     "name": "stdout",
     "output_type": "stream",
     "text": [
      "2\n"
     ]
    }
   ],
   "source": [
    "# find the index of column name\n",
    "idx = df.columns.get_loc('Address')\n",
    "print(idx)"
   ]
  },
  {
   "cell_type": "code",
   "execution_count": 12,
   "metadata": {},
   "outputs": [
    {
     "name": "stdout",
     "output_type": "stream",
     "text": [
      "             Age\n",
      "count   5.000000\n",
      "mean   27.800000\n",
      "std     3.701351\n",
      "min    22.000000\n",
      "25%    27.000000\n",
      "50%    29.000000\n",
      "75%    29.000000\n",
      "max    32.000000\n"
     ]
    }
   ],
   "source": [
    "print(df.describe())"
   ]
  },
  {
   "cell_type": "code",
   "execution_count": 13,
   "metadata": {},
   "outputs": [
    {
     "name": "stdout",
     "output_type": "stream",
     "text": [
      "<class 'pandas.core.frame.DataFrame'>\n",
      "RangeIndex: 5 entries, 0 to 4\n",
      "Data columns (total 4 columns):\n",
      " #   Column         Non-Null Count  Dtype \n",
      "---  ------         --------------  ----- \n",
      " 0   Name           5 non-null      object\n",
      " 1   Age            5 non-null      int64 \n",
      " 2   Address        5 non-null      object\n",
      " 3   Qualification  5 non-null      object\n",
      "dtypes: int64(1), object(3)\n",
      "memory usage: 288.0+ bytes\n",
      "None\n"
     ]
    }
   ],
   "source": [
    "print(df.info())"
   ]
  },
  {
   "cell_type": "markdown",
   "metadata": {},
   "source": [
    "<a id=\"csv\"></a>\n",
    "## Exporting to csv, Importing from csv\n",
    "to_csv will create a csv file from dataframe <br>\n",
    "read_csv returns a dataframe given a csv file"
   ]
  },
  {
   "cell_type": "code",
   "execution_count": 14,
   "metadata": {},
   "outputs": [
    {
     "name": "stdout",
     "output_type": "stream",
     "text": [
      "<class 'pandas.core.frame.DataFrame'>\n",
      "   Unnamed: 0    Name  Age    Address Qualification\n",
      "0           0     Jai   27      Delhi           Msc\n",
      "1           1  Princi   29     Kanpur            MA\n",
      "2           2  Gaurav   22  Allahabad           MCA\n",
      "3           3    Anuj   32    Kannauj           Phd\n",
      "4           4    Ekta   29     Panaji         BTech\n"
     ]
    }
   ],
   "source": [
    "# to create a csv from a dataframe\n",
    "df.to_csv(\"register1.csv\")\n",
    "# read from a csv file\n",
    "my_data = pd.read_csv(\"register1.csv\")\n",
    "print(type(my_data))\n",
    "print(my_data)"
   ]
  },
  {
   "cell_type": "code",
   "execution_count": 15,
   "metadata": {},
   "outputs": [
    {
     "name": "stdout",
     "output_type": "stream",
     "text": [
      "     Name  Age    Address Qualification\n",
      "0     Jai   27      Delhi           Msc\n",
      "1  Princi   29     Kanpur            MA\n",
      "2  Gaurav   22  Allahabad           MCA\n",
      "3    Anuj   32    Kannauj           Phd\n",
      "4    Ekta   29     Panaji         BTech\n"
     ]
    }
   ],
   "source": [
    "df.to_csv(\"register2.csv\", index=False)\n",
    "my_data = pd.read_csv(\"register2.csv\")\n",
    "print(my_data)"
   ]
  },
  {
   "cell_type": "code",
   "execution_count": 16,
   "metadata": {},
   "outputs": [
    {
     "name": "stdout",
     "output_type": "stream",
     "text": [
      "     Name  Age\n",
      "0     Jai   27\n",
      "1  Princi   29\n",
      "2  Gaurav   22\n",
      "3    Anuj   32\n",
      "4    Ekta   29\n"
     ]
    }
   ],
   "source": [
    "df.to_csv(\"register3.csv\", index=False, columns=['Name','Age'])\n",
    "my_data = pd.read_csv(\"register3.csv\")\n",
    "print(my_data)"
   ]
  },
  {
   "cell_type": "markdown",
   "metadata": {},
   "source": [
    "<a id=\"iloc\"></a>\n",
    "### DataFrame.iloc\n",
    "Purely integer-location based indexing for selection by position.\n",
    "Allowed inputs are:\n",
    "- An integer, e.g. 5.\n",
    "- A list or array of integers, e.g. [4, 3, 0].\n",
    "- A slice object with ints, e.g. 1:7.\n",
    "- A boolean array.\n",
    "- A callable function"
   ]
  },
  {
   "cell_type": "code",
   "execution_count": 17,
   "metadata": {},
   "outputs": [
    {
     "name": "stdout",
     "output_type": "stream",
     "text": [
      "     Name  Age    Address Qualification\n",
      "0     Jai   27      Delhi           Msc\n",
      "1  Princi   29     Kanpur            MA\n",
      "2  Gaurav   22  Allahabad           MCA\n",
      "3    Anuj   32    Kannauj           Phd\n",
      "4    Ekta   29     Panaji         BTech\n"
     ]
    }
   ],
   "source": [
    "print(df)"
   ]
  },
  {
   "cell_type": "markdown",
   "metadata": {},
   "source": [
    "#### Indexing just the rows"
   ]
  },
  {
   "cell_type": "code",
   "execution_count": 18,
   "metadata": {},
   "outputs": [
    {
     "name": "stdout",
     "output_type": "stream",
     "text": [
      "Name               Jai\n",
      "Age                 27\n",
      "Address          Delhi\n",
      "Qualification      Msc\n",
      "Name: 0, dtype: object\n",
      "type is <class 'pandas.core.series.Series'>\n"
     ]
    }
   ],
   "source": [
    "# with an interger\n",
    "print(df.iloc[0])\n",
    "print(f\"type is {type(df.iloc[0])}\")"
   ]
  },
  {
   "cell_type": "code",
   "execution_count": 19,
   "metadata": {},
   "outputs": [
    {
     "name": "stdout",
     "output_type": "stream",
     "text": [
      "Name                Gaurav\n",
      "Age                     22\n",
      "Address          Allahabad\n",
      "Qualification          MCA\n",
      "Name: 2, dtype: object\n"
     ]
    }
   ],
   "source": [
    "print(df.iloc[2])"
   ]
  },
  {
   "cell_type": "code",
   "execution_count": 20,
   "metadata": {},
   "outputs": [
    {
     "name": "stdout",
     "output_type": "stream",
     "text": [
      "     Name  Age    Address Qualification\n",
      "2  Gaurav   22  Allahabad           MCA\n",
      "type is <class 'pandas.core.frame.DataFrame'>\n"
     ]
    }
   ],
   "source": [
    "print(df.iloc[[2]])\n",
    "print(f\"type is {type(df.iloc[[2]])}\")"
   ]
  },
  {
   "cell_type": "code",
   "execution_count": 21,
   "metadata": {},
   "outputs": [
    {
     "name": "stdout",
     "output_type": "stream",
     "text": [
      "     Name  Age    Address Qualification\n",
      "0     Jai   27      Delhi           Msc\n",
      "2  Gaurav   22  Allahabad           MCA\n"
     ]
    }
   ],
   "source": [
    "# With a list of integers.\n",
    "print(df.iloc[[0, 2]])"
   ]
  },
  {
   "cell_type": "code",
   "execution_count": 22,
   "metadata": {},
   "outputs": [
    {
     "name": "stdout",
     "output_type": "stream",
     "text": [
      "     Name  Age    Address Qualification\n",
      "1  Princi   29     Kanpur            MA\n",
      "2  Gaurav   22  Allahabad           MCA\n",
      "3    Anuj   32    Kannauj           Phd\n",
      "<class 'pandas.core.frame.DataFrame'>\n"
     ]
    }
   ],
   "source": [
    "# With a slice object.\n",
    "print(df.iloc[1:4])\n",
    "print(type(df.iloc[1:4]))"
   ]
  },
  {
   "cell_type": "code",
   "execution_count": 23,
   "metadata": {},
   "outputs": [
    {
     "name": "stdout",
     "output_type": "stream",
     "text": [
      "   Name  Age  Address Qualification\n",
      "0   Jai   27    Delhi           Msc\n",
      "3  Anuj   32  Kannauj           Phd\n"
     ]
    }
   ],
   "source": [
    "# With a boolean mask the same length as the index.\n",
    "print(df.iloc[[True, False, False, True, False]])"
   ]
  },
  {
   "cell_type": "code",
   "execution_count": 24,
   "metadata": {},
   "outputs": [
    {
     "name": "stdout",
     "output_type": "stream",
     "text": [
      "     Name  Age    Address Qualification\n",
      "0     Jai   27      Delhi           Msc\n",
      "2  Gaurav   22  Allahabad           MCA\n",
      "4    Ekta   29     Panaji         BTech\n"
     ]
    }
   ],
   "source": [
    "# With a callable function. This selects the rows whose index is even.\n",
    "print(df.iloc[lambda x: x.index % 2 == 0])"
   ]
  },
  {
   "cell_type": "markdown",
   "metadata": {},
   "source": [
    "#### Indexing both axes"
   ]
  },
  {
   "cell_type": "code",
   "execution_count": 25,
   "metadata": {},
   "outputs": [
    {
     "name": "stdout",
     "output_type": "stream",
     "text": [
      "22\n",
      "22\n",
      "<class 'numpy.int64'>\n",
      "<class 'numpy.int64'>\n"
     ]
    }
   ],
   "source": [
    "# with integers : 2nd row and 1st column\n",
    "print(df.iloc[2,1])\n",
    "print(df.iloc[2][1])\n",
    "print(type(df.iloc[2,1]))\n",
    "print(type(df.iloc[2][1]))"
   ]
  },
  {
   "cell_type": "code",
   "execution_count": 26,
   "metadata": {},
   "outputs": [
    {
     "name": "stdout",
     "output_type": "stream",
     "text": [
      "   Age Address\n",
      "0   27   Delhi\n",
      "4   29  Panaji\n",
      "<class 'pandas.core.frame.DataFrame'>\n"
     ]
    }
   ],
   "source": [
    "# With lists of integers : 0th and 4th rows, 1st and second columns\n",
    "print(df.iloc[[0, 4], [1, 2]])\n",
    "print(type(df.iloc[[0, 4], [1, 2]]))"
   ]
  },
  {
   "cell_type": "markdown",
   "metadata": {},
   "source": [
    "Also for either of the axes, you can use slicing or boolean list or callable function"
   ]
  },
  {
   "cell_type": "markdown",
   "metadata": {},
   "source": [
    "<a id=\"sort\"></a>\n",
    "### Sort a dataframe based on columns"
   ]
  },
  {
   "cell_type": "code",
   "execution_count": 27,
   "metadata": {},
   "outputs": [
    {
     "name": "stdout",
     "output_type": "stream",
     "text": [
      "     Name  Age    Address Qualification\n",
      "0     Jai   27      Delhi           Msc\n",
      "1  Princi   29     Kanpur            MA\n",
      "2  Gaurav   22  Allahabad           MCA\n",
      "3    Anuj   32    Kannauj           Phd\n",
      "4    Ekta   29     Panaji         BTech\n"
     ]
    }
   ],
   "source": [
    "print(df)"
   ]
  },
  {
   "cell_type": "code",
   "execution_count": 28,
   "metadata": {},
   "outputs": [
    {
     "name": "stdout",
     "output_type": "stream",
     "text": [
      "     Name  Age    Address Qualification\n",
      "2  Gaurav   22  Allahabad           MCA\n",
      "0     Jai   27      Delhi           Msc\n",
      "1  Princi   29     Kanpur            MA\n",
      "4    Ekta   29     Panaji         BTech\n",
      "3    Anuj   32    Kannauj           Phd\n"
     ]
    }
   ],
   "source": [
    "print(df.sort_values(by=['Age'],ascending=True))"
   ]
  },
  {
   "cell_type": "code",
   "execution_count": 29,
   "metadata": {},
   "outputs": [
    {
     "name": "stdout",
     "output_type": "stream",
     "text": [
      "     Name  Age    Address Qualification\n",
      "2  Gaurav   22  Allahabad           MCA\n",
      "0     Jai   27      Delhi           Msc\n",
      "4    Ekta   29     Panaji         BTech\n",
      "1  Princi   29     Kanpur            MA\n",
      "3    Anuj   32    Kannauj           Phd\n"
     ]
    }
   ],
   "source": [
    "# sort by age first and then sort by name\n",
    "print(df.sort_values(by=['Age','Name'],ascending=True))"
   ]
  },
  {
   "cell_type": "markdown",
   "metadata": {},
   "source": [
    "<a id=\"numpy\"></a>\n",
    "### Conversion of dataframe to numpy array"
   ]
  },
  {
   "cell_type": "code",
   "execution_count": 30,
   "metadata": {},
   "outputs": [
    {
     "name": "stdout",
     "output_type": "stream",
     "text": [
      "<class 'numpy.ndarray'>\n",
      "(5, 4)\n"
     ]
    }
   ],
   "source": [
    "data_array = df.values\n",
    "print(type(data_array))\n",
    "print(data_array.shape)"
   ]
  },
  {
   "cell_type": "code",
   "execution_count": 31,
   "metadata": {},
   "outputs": [
    {
     "name": "stdout",
     "output_type": "stream",
     "text": [
      "[['Jai' 27 'Delhi' 'Msc']\n",
      " ['Princi' 29 'Kanpur' 'MA']\n",
      " ['Gaurav' 22 'Allahabad' 'MCA']\n",
      " ['Anuj' 32 'Kannauj' 'Phd']\n",
      " ['Ekta' 29 'Panaji' 'BTech']]\n"
     ]
    }
   ],
   "source": [
    "print(data_array)"
   ]
  },
  {
   "cell_type": "markdown",
   "metadata": {},
   "source": [
    "<a href='#top'>Go Back</a>"
   ]
  }
 ],
 "metadata": {
  "kernelspec": {
   "display_name": "Python 3",
   "language": "python",
   "name": "python3"
  },
  "language_info": {
   "codemirror_mode": {
    "name": "ipython",
    "version": 3
   },
   "file_extension": ".py",
   "mimetype": "text/x-python",
   "name": "python",
   "nbconvert_exporter": "python",
   "pygments_lexer": "ipython3",
   "version": "3.8.5"
  }
 },
 "nbformat": 4,
 "nbformat_minor": 4
}
